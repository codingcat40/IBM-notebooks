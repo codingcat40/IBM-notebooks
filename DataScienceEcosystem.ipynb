{
 "cells": [
  {
   "cell_type": "markdown",
   "id": "4c07aa23-3400-47ee-995b-4e1a04bb5c1a",
   "metadata": {},
   "source": [
    "# Data Science Tools and Ecosystem"
   ]
  },
  {
   "cell_type": "markdown",
   "id": "3c20314b-1036-4099-9393-913da3f4f6d0",
   "metadata": {},
   "source": [
    "## In This notebook, Data Science Tools and Ecosystem are summarized."
   ]
  },
  {
   "cell_type": "markdown",
   "id": "5b518d54-36aa-4b99-b415-5daabfded1a3",
   "metadata": {},
   "source": [
    "### Some of the popular languages that Data Scientists use are:\n",
    "1. Python\n",
    "2. Java\n",
    "3. SQL"
   ]
  },
  {
   "cell_type": "markdown",
   "id": "751af74f-6e56-4921-874c-0979c87aa35f",
   "metadata": {},
   "source": [
    "### Some of the commonly used libraries used by Data Scientists include:\n",
    "1. Numpy\n",
    "2. Pandas\n",
    "3. Scikit-Learn"
   ]
  },
  {
   "cell_type": "markdown",
   "id": "0cf9aba5-0aba-4f0a-a8d6-c9eb72a16443",
   "metadata": {},
   "source": [
    "| Data Science Tools |\n",
    "| ------- |\n",
    "| Jupyter Notebook   |\n",
    "| RStudio            |\n",
    "| Visual Studio Code |"
   ]
  },
  {
   "cell_type": "markdown",
   "id": "f8ee6014-febe-4dac-856e-975862dae5bc",
   "metadata": {},
   "source": [
    "### Below are a few examples of evaluating arithmetic expressions in Python."
   ]
  },
  {
   "cell_type": "code",
   "execution_count": 4,
   "id": "a8c356e9-83c7-4a4e-b20a-b8bce78e6d46",
   "metadata": {},
   "outputs": [
    {
     "data": {
      "text/plain": [
       "17"
      ]
     },
     "execution_count": 4,
     "metadata": {},
     "output_type": "execute_result"
    }
   ],
   "source": [
    "# This is a simple arithmetic expression to mutiplyy then add integers\n",
    "(3*4)+5"
   ]
  },
  {
   "cell_type": "code",
   "execution_count": 5,
   "id": "92457707-c526-4627-8e35-fb86c3aa2c71",
   "metadata": {},
   "outputs": [
    {
     "data": {
      "text/plain": [
       "3.3333333333333335"
      ]
     },
     "execution_count": 5,
     "metadata": {},
     "output_type": "execute_result"
    }
   ],
   "source": [
    "# This will convert 200 minutes to hours by diving by 60\n",
    "200 / 60"
   ]
  },
  {
   "cell_type": "markdown",
   "id": "76ac9eae-016d-4e7c-91ea-65ff3a7e1f98",
   "metadata": {},
   "source": [
    "**Objectives:**\n",
    "* Listing Popular languages used in Data Science\n",
    "* Popular Libraries used by Data Scientists \n",
    "* Arithmetic expressions in python notebook\n",
    "* Markdows and Code cells in code enviornment"
   ]
  },
  {
   "cell_type": "markdown",
   "id": "b875b522-9e60-4c16-bddd-ef95e43fab97",
   "metadata": {},
   "source": [
    "## Author\n",
    "Naman Matoliya"
   ]
  },
  {
   "cell_type": "code",
   "execution_count": null,
   "id": "131dce42-9293-46a8-a2b0-8abd7ac71a78",
   "metadata": {},
   "outputs": [],
   "source": []
  }
 ],
 "metadata": {
  "kernelspec": {
   "display_name": "Python 3 (ipykernel)",
   "language": "python",
   "name": "python3"
  },
  "language_info": {
   "codemirror_mode": {
    "name": "ipython",
    "version": 3
   },
   "file_extension": ".py",
   "mimetype": "text/x-python",
   "name": "python",
   "nbconvert_exporter": "python",
   "pygments_lexer": "ipython3",
   "version": "3.11.9"
  }
 },
 "nbformat": 4,
 "nbformat_minor": 5
}
